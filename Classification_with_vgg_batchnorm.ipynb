{
 "cells": [
  {
   "cell_type": "code",
   "execution_count": 10,
   "metadata": {
    "collapsed": true
   },
   "outputs": [],
   "source": [
    "## Nature Conservancy Monitoring"
   ]
  },
  {
   "cell_type": "code",
   "execution_count": 1,
   "metadata": {
    "collapsed": false
   },
   "outputs": [
    {
     "name": "stderr",
     "output_type": "stream",
     "text": [
      "Using Theano backend.\n",
      "Using gpu device 0: GeForce GTX 960 (CNMeM is enabled with initial size: 75.0% of memory, cuDNN 5105)\n"
     ]
    }
   ],
   "source": [
    "import matplotlib.pyplot as plt\n",
    "import numpy as np\n",
    "import pickle\n",
    "import h5py\n",
    "import cv2\n",
    "import os\n",
    "import glob\n",
    "from keras.models import Sequential\n",
    "from keras.layers.core import Flatten, Dense, Dropout, Reshape, Lambda\n",
    "from keras.layers.convolutional import Convolution2D, MaxPooling2D, ZeroPadding2D\n",
    "from keras.optimizers import Adadelta, Adam, SGD\n",
    "from keras.utils.np_utils import to_categorical\n",
    "from sklearn.preprocessing import LabelEncoder\n",
    "from sklearn.cross_validation import train_test_split\n",
    "from keras.layers.normalization import BatchNormalization\n",
    "from keras.callbacks import EarlyStopping, History\n",
    "from keras.preprocessing.image import ImageDataGenerator\n",
    "import pandas as pd\n",
    "from __future__ import division, print_function\n",
    "from collections import Counter\n",
    "%matplotlib inline"
   ]
  },
  {
   "cell_type": "code",
   "execution_count": 2,
   "metadata": {
    "collapsed": false
   },
   "outputs": [
    {
     "name": "stdout",
     "output_type": "stream",
     "text": [
      "/home/hrishi/Desktop/kaggle/fish/input\n",
      "/home/hrishi/Desktop/kaggle/fish/input/train1\n"
     ]
    }
   ],
   "source": [
    "\n",
    "% cd /home/hrishi/Desktop/kaggle/fish/input\n",
    "% rm -r train1\n",
    "% rm -r valid1\n",
    "% mkdir train1 valid1\n",
    "% cp -r train/* train1\n",
    "% cd train1\n",
    "# pool_counter = 1\n",
    "\n",
    "for fish_class in glob.glob('*'): os.mkdir('../valid1/' + fish_class)\n",
    "\n",
    "rnd_ord = np.random.permutation(glob.glob('*/*.jpg'))\n",
    "for i in range(500): os.rename(rnd_ord[i], '../valid1/' + rnd_ord[i])"
   ]
  },
  {
   "cell_type": "code",
   "execution_count": 2,
   "metadata": {
    "collapsed": false
   },
   "outputs": [
    {
     "name": "stdout",
     "output_type": "stream",
     "text": [
      "/home/hrishi/Desktop/kaggle/fish/input\n",
      "/home/hrishi/Desktop/kaggle/fish/input/train1\n"
     ]
    }
   ],
   "source": [
    "% cd /home/hrishi/Desktop/kaggle/fish/input\n",
    "% cd train1"
   ]
  },
  {
   "cell_type": "code",
   "execution_count": 3,
   "metadata": {
    "collapsed": true
   },
   "outputs": [],
   "source": [
    "vgg_mean = np.array([123.68, 116.779, 103.939], dtype=np.float32).reshape((3,1,1))\n",
    "def vgg_preprocess(x):\n",
    "    x = x - vgg_mean\n",
    "    return x[:, ::-1]\n",
    "\n",
    "def VGG_16(size=(224, 224), weights_path='/home/hrishi/Desktop/kaggle/vgg16_bn.h5'):\n",
    "    model = Sequential()\n",
    "    model.add(Lambda(vgg_preprocess, input_shape=(3,)+size))\n",
    "    model.add(ZeroPadding2D((1,1)))\n",
    "    model.add(Convolution2D(64, 3, 3, activation='relu'))\n",
    "    model.add(ZeroPadding2D((1,1)))\n",
    "    model.add(Convolution2D(64, 3, 3, activation='relu'))\n",
    "    model.add(MaxPooling2D((2,2), strides=(2,2)))\n",
    "\n",
    "    model.add(ZeroPadding2D((1,1)))\n",
    "    model.add(Convolution2D(128, 3, 3, activation='relu'))\n",
    "    model.add(ZeroPadding2D((1,1)))\n",
    "    model.add(Convolution2D(128, 3, 3, activation='relu'))\n",
    "    model.add(MaxPooling2D((2,2), strides=(2,2)))\n",
    "\n",
    "    model.add(ZeroPadding2D((1,1)))\n",
    "    model.add(Convolution2D(256, 3, 3, activation='relu'))\n",
    "    model.add(ZeroPadding2D((1,1)))\n",
    "    model.add(Convolution2D(256, 3, 3, activation='relu'))\n",
    "    model.add(ZeroPadding2D((1,1)))\n",
    "    model.add(Convolution2D(256, 3, 3, activation='relu'))\n",
    "    model.add(MaxPooling2D((2,2), strides=(2,2)))\n",
    "\n",
    "    model.add(ZeroPadding2D((1,1)))\n",
    "    model.add(Convolution2D(512, 3, 3, activation='relu'))\n",
    "    model.add(ZeroPadding2D((1,1)))\n",
    "    model.add(Convolution2D(512, 3, 3, activation='relu'))\n",
    "    model.add(ZeroPadding2D((1,1)))\n",
    "    model.add(Convolution2D(512, 3, 3, activation='relu'))\n",
    "    model.add(MaxPooling2D((2,2), strides=(2,2)))\n",
    "\n",
    "    model.add(ZeroPadding2D((1,1)))\n",
    "    model.add(Convolution2D(512, 3, 3, activation='relu'))\n",
    "    model.add(ZeroPadding2D((1,1)))\n",
    "    model.add(Convolution2D(512, 3, 3, activation='relu'))\n",
    "    model.add(ZeroPadding2D((1,1)))\n",
    "    model.add(Convolution2D(512, 3, 3, activation='relu'))\n",
    "    model.add(MaxPooling2D((2,2), strides=(2,2)))\n",
    "\n",
    "    model.add(Flatten())\n",
    "    model.add(Dense(4096, activation='relu'))\n",
    "    model.add(BatchNormalization())\n",
    "    model.add(Dropout(0.5))\n",
    "    model.add(Dense(4096, activation='relu'))\n",
    "    model.add(BatchNormalization())\n",
    "    model.add(Dropout(0.5))\n",
    "    model.add(Dense(1000, activation='softmax'))\n",
    "\n",
    "    if weights_path:\n",
    "        model.load_weights(weights_path)\n",
    "\n",
    "    return model\n"
   ]
  },
  {
   "cell_type": "code",
   "execution_count": 4,
   "metadata": {
    "collapsed": false
   },
   "outputs": [
    {
     "name": "stderr",
     "output_type": "stream",
     "text": [
      "WARNING (theano.gof.cmodule): WARNING: your Theano flags `gcc.cxxflags` specify an `-march=X` flags.\n",
      "         It is better to let Theano/g++ find it automatically, but we don't do it now\n"
     ]
    }
   ],
   "source": [
    "size = (224, 224)\n",
    "model = VGG_16(size=size)\n",
    "model.pop(); model.pop(); model.pop(); model.pop(); model.pop();\n",
    "\n",
    "for layer in model.layers:\n",
    "    layer.trainable = False\n",
    "\n",
    "model.add(Dropout(0.2))\n",
    "model.add(Dense(512, activation='relu'))\n",
    "model.add(BatchNormalization())\n",
    "model.add(Dropout(0.3))\n",
    "model.add(Dense(8, activation='softmax'))"
   ]
  },
  {
   "cell_type": "code",
   "execution_count": 5,
   "metadata": {
    "collapsed": false
   },
   "outputs": [
    {
     "name": "stdout",
     "output_type": "stream",
     "text": [
      "Found 3277 images belonging to 8 classes.\n",
      "Found 500 images belonging to 8 classes.\n",
      "Epoch 1/50\n",
      "3277/3277 [==============================] - 111s - loss: 1.9468 - acc: 0.4266 - val_loss: 1.0969 - val_acc: 0.6900\n",
      "Epoch 2/50\n",
      "3277/3277 [==============================] - 111s - loss: 1.3113 - acc: 0.5862 - val_loss: 0.8829 - val_acc: 0.7680\n",
      "Epoch 3/50\n",
      "3277/3277 [==============================] - 111s - loss: 1.1060 - acc: 0.6427 - val_loss: 0.7278 - val_acc: 0.7780\n",
      "Epoch 4/50\n",
      "3277/3277 [==============================] - 111s - loss: 0.9806 - acc: 0.6845 - val_loss: 0.6303 - val_acc: 0.8220\n",
      "Epoch 5/50\n",
      "3277/3277 [==============================] - 110s - loss: 0.8616 - acc: 0.7110 - val_loss: 0.6754 - val_acc: 0.8240\n",
      "Epoch 6/50\n",
      "3277/3277 [==============================] - 111s - loss: 0.8285 - acc: 0.7211 - val_loss: 0.6023 - val_acc: 0.8220\n",
      "Epoch 7/50\n",
      "3277/3277 [==============================] - 113s - loss: 0.7864 - acc: 0.7269 - val_loss: 0.6010 - val_acc: 0.8560\n",
      "Epoch 8/50\n",
      "3277/3277 [==============================] - 114s - loss: 0.7472 - acc: 0.7449 - val_loss: 0.5691 - val_acc: 0.8240\n",
      "Epoch 9/50\n",
      "3277/3277 [==============================] - 114s - loss: 0.7220 - acc: 0.7540 - val_loss: 0.4908 - val_acc: 0.8640\n",
      "Epoch 10/50\n",
      "3277/3277 [==============================] - 114s - loss: 0.7123 - acc: 0.7516 - val_loss: 0.4501 - val_acc: 0.8700\n",
      "Epoch 11/50\n",
      "3277/3277 [==============================] - 115s - loss: 0.6801 - acc: 0.7644 - val_loss: 0.4837 - val_acc: 0.8440\n",
      "Epoch 12/50\n",
      "3277/3277 [==============================] - 114s - loss: 0.6486 - acc: 0.7797 - val_loss: 0.4431 - val_acc: 0.8600\n",
      "Epoch 13/50\n",
      "3277/3277 [==============================] - 114s - loss: 0.6450 - acc: 0.7803 - val_loss: 0.4223 - val_acc: 0.8700\n",
      "Epoch 14/50\n",
      "3277/3277 [==============================] - 115s - loss: 0.6248 - acc: 0.7815 - val_loss: 0.4253 - val_acc: 0.8640\n",
      "Epoch 15/50\n",
      "3277/3277 [==============================] - 115s - loss: 0.6065 - acc: 0.7800 - val_loss: 0.4356 - val_acc: 0.8640\n",
      "Epoch 16/50\n",
      "3277/3277 [==============================] - 114s - loss: 0.5665 - acc: 0.8013 - val_loss: 0.4081 - val_acc: 0.8640\n",
      "Epoch 17/50\n",
      "3277/3277 [==============================] - 115s - loss: 0.5750 - acc: 0.7989 - val_loss: 0.3753 - val_acc: 0.8960\n",
      "Epoch 18/50\n",
      "3277/3277 [==============================] - 114s - loss: 0.5544 - acc: 0.8035 - val_loss: 0.3402 - val_acc: 0.8840\n",
      "Epoch 19/50\n",
      "3277/3277 [==============================] - 115s - loss: 0.5507 - acc: 0.8050 - val_loss: 0.4156 - val_acc: 0.8740\n",
      "Epoch 20/50\n",
      "3277/3277 [==============================] - 114s - loss: 0.5431 - acc: 0.8020 - val_loss: 0.3289 - val_acc: 0.8960\n",
      "Epoch 21/50\n",
      "3277/3277 [==============================] - 114s - loss: 0.5102 - acc: 0.8224 - val_loss: 0.3364 - val_acc: 0.8840\n",
      "Epoch 22/50\n",
      "3277/3277 [==============================] - 115s - loss: 0.5334 - acc: 0.8160 - val_loss: 0.2933 - val_acc: 0.9060\n",
      "Epoch 23/50\n",
      "3277/3277 [==============================] - 115s - loss: 0.5084 - acc: 0.8145 - val_loss: 0.2998 - val_acc: 0.8980\n",
      "Epoch 24/50\n",
      "3277/3277 [==============================] - 114s - loss: 0.5059 - acc: 0.8227 - val_loss: 0.3524 - val_acc: 0.8960\n",
      "Epoch 25/50\n",
      "3277/3277 [==============================] - 115s - loss: 0.5064 - acc: 0.8181 - val_loss: 0.3631 - val_acc: 0.8820\n"
     ]
    }
   ],
   "source": [
    "nb_train_samples = len(glob.glob('*/*.jpg'))\n",
    "nb_validation_samples = len(glob.glob('../valid1/*/*.jpg'))\n",
    "nb_epoch = 50\n",
    "bath_size = 16\n",
    "nb_test_samples = 1000\n",
    "\n",
    "classes = ['ALB', 'BET', 'DOL', 'LAG', 'NoF', 'OTHER', 'SHARK', 'YFT']\n",
    "\n",
    "train_datagen = ImageDataGenerator(\n",
    "        shear_range=0.2,\n",
    "        zoom_range=0.2,\n",
    "        rotation_range=20.,\n",
    "        width_shift_range=0.2,\n",
    "        height_shift_range=0.2,\n",
    "        horizontal_flip=True,\n",
    "        fill_mode='nearest')\n",
    "\n",
    "train_generator = train_datagen.flow_from_directory(\n",
    "        '../train1/',\n",
    "        target_size=size,\n",
    "        batch_size=bath_size,\n",
    "        shuffle = True,\n",
    "        classes=classes,\n",
    "        class_mode='categorical')\n",
    "\n",
    "valid_datagen = ImageDataGenerator()\n",
    "\n",
    "validation_generator = valid_datagen.flow_from_directory(\n",
    "        '../valid1/',\n",
    "        target_size=size,\n",
    "        batch_size=bath_size,\n",
    "        shuffle = True,\n",
    "        classes=classes,\n",
    "        class_mode='categorical')\n",
    "\n",
    "callbacks = [EarlyStopping(monitor='val_loss', patience=2, verbose=0)]\n",
    "#sgd = SGD(lr=1e-2, decay=1e-6, momentum=0.9, nesterov=True)\n",
    "model.compile(loss='categorical_crossentropy', optimizer=\"adadelta\", \\\n",
    "              metrics=[\"accuracy\"])\n",
    "\n",
    "# fine-tune the model\n",
    "hist = model.fit_generator(\n",
    "        train_generator,\n",
    "        samples_per_epoch=nb_train_samples,\n",
    "        nb_epoch=nb_epoch,\n",
    "        validation_data=validation_generator,\n",
    "        nb_val_samples=nb_validation_samples,\n",
    "        callbacks=callbacks)"
   ]
  },
  {
   "cell_type": "code",
   "execution_count": 6,
   "metadata": {
    "collapsed": false
   },
   "outputs": [
    {
     "data": {
      "image/png": "[encoded data removed]",
      "text/plain": [
       "<matplotlib.figure.Figure at 0x7fbaefc2eef0>"
      ]
     },
     "metadata": {},
     "output_type": "display_data"
    }
   ],
   "source": [
    "\n",
    "# summarize history for accuracy\n",
    "plt.figure(figsize=(15, 5))\n",
    "plt.subplot(1, 2, 1)\n",
    "plt.plot(hist.history['acc']); plt.plot(hist.history['val_acc']);\n",
    "plt.title('model accuracy'); plt.ylabel('accuracy');\n",
    "plt.xlabel('epoch'); plt.legend(['train', 'valid'], loc='upper left');\n",
    "\n",
    "# summarize history for loss\n",
    "plt.subplot(1, 2, 2)\n",
    "plt.plot(hist.history['loss']); plt.plot(hist.history['val_loss']);\n",
    "plt.title('model loss'); plt.ylabel('loss');\n",
    "plt.xlabel('epoch'); plt.legend(['train', 'valid'], loc='upper left');\n",
    "plt.show()"
   ]
  },
  {
   "cell_type": "code",
   "execution_count": 8,
   "metadata": {
    "collapsed": false
   },
   "outputs": [],
   "source": [
    "model.save_weights('../pickles/vgg16_5_lessdrop.pkl')"
   ]
  },
  {
   "cell_type": "code",
   "execution_count": 7,
   "metadata": {
    "collapsed": false
   },
   "outputs": [
    {
     "name": "stdout",
     "output_type": "stream",
     "text": [
      "Predictions for Augmented - 0\n",
      "Found 1000 images belonging to 1 classes.\n"
     ]
    },
    {
     "name": "stderr",
     "output_type": "stream",
     "text": [
      "/home/hrishi/.virtualenvs/cv/lib/python3.4/site-packages/ipykernel/__main__.py:14: DeprecationWarning: This function is deprecated. Please call randint(0, 100000 + 1) instead\n"
     ]
    },
    {
     "name": "stdout",
     "output_type": "stream",
     "text": [
      "Predictions for Augmented - 1\n",
      "Found 1000 images belonging to 1 classes.\n",
      "Predictions for Augmented - 2\n",
      "Found 1000 images belonging to 1 classes.\n",
      "Predictions for Augmented - 3\n",
      "Found 1000 images belonging to 1 classes.\n",
      "Predictions for Augmented - 4\n",
      "Found 1000 images belonging to 1 classes.\n"
     ]
    }
   ],
   "source": [
    "test_aug = 5\n",
    "test_datagen = ImageDataGenerator(\n",
    "        shear_range=0.2,\n",
    "        zoom_range=0.1,\n",
    "        rotation_range=20.,\n",
    "        width_shift_range=0.2,\n",
    "        height_shift_range=0.2,\n",
    "        horizontal_flip=True,\n",
    "        fill_mode='nearest')\n",
    "\n",
    "\n",
    "for aug in range(test_aug):\n",
    "    print('Predictions for Augmented -', aug)\n",
    "    random_seed = np.random.random_integers(0, 100000)\n",
    "\n",
    "    test_generator = test_datagen.flow_from_directory(\n",
    "            '../test_stg1/',\n",
    "            target_size=size,\n",
    "            batch_size=bath_size,\n",
    "            shuffle = False,\n",
    "            seed = random_seed,\n",
    "            classes = None,\n",
    "            class_mode = None)\n",
    "\n",
    "    test_image_list = test_generator.filenames\n",
    "    if aug == 0:\n",
    "        predictions = model.predict_generator(test_generator, nb_test_samples)\n",
    "    else:\n",
    "        predictions += model.predict_generator(test_generator, nb_test_samples)\n",
    "\n",
    "predictions /= test_aug"
   ]
  },
  {
   "cell_type": "code",
   "execution_count": 8,
   "metadata": {
    "collapsed": false
   },
   "outputs": [
    {
     "name": "stdout",
     "output_type": "stream",
     "text": [
      "Begin to write submission file ..\n",
      "0 / 1000\n",
      "100 / 1000\n",
      "200 / 1000\n",
      "300 / 1000\n",
      "400 / 1000\n",
      "500 / 1000\n",
      "600 / 1000\n",
      "700 / 1000\n",
      "800 / 1000\n",
      "900 / 1000\n"
     ]
    }
   ],
   "source": [
    "# clip predictions\n",
    "c = 0\n",
    "preds = np.clip(predictions, c, 1-c)\n",
    "pool_counter = 5\n",
    "\n",
    "print('Begin to write submission file ..')\n",
    "f_submit = open(os.path.join('/home/hrishi/Desktop/kaggle/fish/input/pooled', \\\n",
    "                             'submit_' + str(pool_counter) +'.csv'), 'w')\n",
    "f_submit.write('image,ALB,BET,DOL,LAG,NoF,OTHER,SHARK,YFT\\n')\n",
    "for i, image_name in enumerate(test_generator.filenames):\n",
    "    pred = ['%.6f' % p for p in preds[i, :]]\n",
    "    if i%100 == 0:\n",
    "        print(i, '/', 1000)\n",
    "    f_submit.write('%s,%s\\n' % (os.path.basename(image_name), ','.join(pred)))\n",
    "\n",
    "f_submit.close()"
   ]
  },
  {
   "cell_type": "code",
   "execution_count": null,
   "metadata": {
    "collapsed": true
   },
   "outputs": [],
   "source": []
  }
 ],
 "metadata": {
  "kernelspec": {
   "display_name": "Python 3",
   "language": "python",
   "name": "python3"
  },
  "language_info": {
   "codemirror_mode": {
    "name": "ipython",
    "version": 3
   },
   "file_extension": ".py",
   "mimetype": "text/x-python",
   "name": "python",
   "nbconvert_exporter": "python",
   "pygments_lexer": "ipython3",
   "version": "3.4.3"
  }
 },
 "nbformat": 4,
 "nbformat_minor": 0
}
